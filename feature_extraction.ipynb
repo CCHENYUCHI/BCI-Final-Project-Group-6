{
 "cells": [
  {
   "cell_type": "markdown",
   "id": "641a69c8",
   "metadata": {},
   "source": [
    "# CSP Features "
   ]
  },
  {
   "cell_type": "markdown",
   "id": "7601fcca",
   "metadata": {},
   "source": [
    "### Steps of FB-CSP Classification \n",
    "(Fast EEG-Based Decoding Of The Directional Focus Of Auditory Attention Using Common Spatial Patterns)\n",
    "- Step 1: Filter Bank\n",
    "    - 14(B is number of filter bank) 8th-order butterworth filters. The first filter corresponds to frequency band 1-4 hz. The second with 2-6. And continuous with overlap 2 hz until 26(2+12*2)-30 hz. \n",
    "    - Downsample to 64 hz."
   ]
  },
  {
   "cell_type": "code",
   "execution_count": null,
   "id": "2537bf5e",
   "metadata": {},
   "outputs": [],
   "source": [
    "import mne"
   ]
  }
 ],
 "metadata": {
  "kernelspec": {
   "display_name": "base",
   "language": "python",
   "name": "python3"
  },
  "language_info": {
   "name": "python",
   "version": "3.11.7"
  }
 },
 "nbformat": 4,
 "nbformat_minor": 5
}
